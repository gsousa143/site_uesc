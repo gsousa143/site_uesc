{
 "cells": [
  {
   "cell_type": "markdown",
   "metadata": {},
   "source": [
    "## Passo 1: Criar um ambiente virtual\n",
    "##### Deve criar o ambiente na pasta principal onde será feito o projeto.\n",
    "Exemplo usando o venv no windows"
   ]
  },
  {
   "cell_type": "code",
   "execution_count": null,
   "metadata": {},
   "outputs": [],
   "source": [
    "python -m venv <nome> #pra windows"
   ]
  },
  {
   "cell_type": "markdown",
   "metadata": {},
   "source": [
    "Para linux, ao chamar \"python\" na linha de comando, pode estar se referindo à versões 2.x. Por isso, para criar o ambiente, utiliza-se:"
   ]
  },
  {
   "cell_type": "code",
   "execution_count": null,
   "metadata": {},
   "outputs": [],
   "source": [
    "python3 -m venv <nome> #Pra linux"
   ]
  },
  {
   "cell_type": "markdown",
   "metadata": {},
   "source": [
    "## Passo 2: Ativar o ambiente"
   ]
  },
  {
   "cell_type": "code",
   "execution_count": null,
   "metadata": {},
   "outputs": [],
   "source": [
    ". nome/Scripts/activate #pra windows"
   ]
  },
  {
   "cell_type": "code",
   "execution_count": null,
   "metadata": {},
   "outputs": [],
   "source": [
    "source <nome>/bin/activate #pra linux"
   ]
  },
  {
   "cell_type": "markdown",
   "metadata": {},
   "source": [
    "## Passo 3: instalar o django"
   ]
  },
  {
   "cell_type": "code",
   "execution_count": null,
   "metadata": {},
   "outputs": [],
   "source": [
    "pip install Django\n",
    "\n",
    "# para abrir o vsCode com o ambiente ativo\n",
    "\n",
    ". code"
   ]
  },
  {
   "cell_type": "markdown",
   "metadata": {},
   "source": [
    "## Passo 4: Iniciar o projeto Django"
   ]
  },
  {
   "cell_type": "code",
   "execution_count": null,
   "metadata": {},
   "outputs": [],
   "source": [
    "django-admin startproject <nome_projeto> ."
   ]
  },
  {
   "cell_type": "markdown",
   "metadata": {},
   "source": [
    "## Componentes principais que são criados:\n",
    "**wsgi.py**: O arquivo wsgi.py é um componente fundamental em um projeto Django quando se trata de servir a aplicação web usando servidores web compatíveis com WSGI (Web Server Gateway Interface). Quando você implanta seu projeto Django em um servidor web, como o Apache HTTP Server com mod_wsgi ou o uWSGI, o servidor web usa o wsgi.py para interagir com a aplicação Django.\n",
    "## \n",
    "**urls.py**: serve pra dizer ao navegador qual página ele vai acessar. Funciona como uma rota\n",
    "##\n",
    "**settings.py**: tem toda a configuração do Django"
   ]
  },
  {
   "cell_type": "markdown",
   "metadata": {},
   "source": [
    "## Passo 5: Criar migrações do banco de dados"
   ]
  },
  {
   "cell_type": "code",
   "execution_count": null,
   "metadata": {},
   "outputs": [],
   "source": [
    "python manage.py migrate"
   ]
  },
  {
   "cell_type": "markdown",
   "metadata": {},
   "source": [
    "Esse comando verifica no settings.py o banco de dados que será utilizado (Por padrão é o sqlite3) e cria um banco de dados inicial."
   ]
  },
  {
   "cell_type": "markdown",
   "metadata": {},
   "source": [
    "## Passo 6: Rodar o servidor"
   ]
  },
  {
   "cell_type": "code",
   "execution_count": null,
   "metadata": {},
   "outputs": [],
   "source": [
    "python manage.py runserver"
   ]
  },
  {
   "cell_type": "markdown",
   "metadata": {},
   "source": [
    "## Passo 7: Criar um app principal que vai gerenciar o projeto"
   ]
  },
  {
   "cell_type": "code",
   "execution_count": null,
   "metadata": {},
   "outputs": [],
   "source": [
    "python manage.py startapp <nome_app>"
   ]
  },
  {
   "cell_type": "markdown",
   "metadata": {},
   "source": [
    "## componentes Principais criados:\n",
    "\n",
    "**admin**:\n",
    "##\n",
    "**models**: forma que o Django dá de manipular o banco de dados. (Exemplo: para criar uma tabela, cria o prório modelo no models). está interligado com a pasta migrations, pois quando algo for alterado, as migrações irão para o banco dados.\n",
    "##\n",
    "**views**:"
   ]
  },
  {
   "cell_type": "markdown",
   "metadata": {},
   "source": [
    "## Passo 8: adicionar o app criado no arquivo \"Settings.py\"\n",
    "\n",
    "Em INSTALLED_APPS (linha 33), adicionar o nome do app criado. Assim, o projeto vai enxergar o app como uttilizável."
   ]
  },
  {
   "cell_type": "markdown",
   "metadata": {},
   "source": [
    "## Passo 8: Criar uma classe no models.py\n",
    "\n",
    "Essa classe será usada para criar o tópico que o usuário irá registrar no app, para inserir as anotações. A classe deve herdar de models.Model. Exemplo:"
   ]
  },
  {
   "cell_type": "code",
   "execution_count": null,
   "metadata": {},
   "outputs": [],
   "source": [
    "from django.db import models\n",
    "\n",
    "class Topic(models.Model): # a classe se transforma em uma tabela no banco de dados\n",
    "    text = models.CharField(max_length=200) #crio um campo text, do tipo CharField (de tamanho limitado - normalmente pra títulos), com tamanho máximo de 200 caracteres\n",
    "    date_added = models.DateTimeField(auto_now_add=True) # vai adicionar a data e hora de forma automática em que for registrado alguma coisa\n",
    "    \n",
    "    def __str__(self): #Método pra organizar os tópicos, retornando uma representação em string do modelo criado\n",
    "       return self.text"
   ]
  },
  {
   "cell_type": "markdown",
   "metadata": {},
   "source": [
    "Após criar a classe, deve-se utilizar o makemigrations para as alterações irem pro banco de dados"
   ]
  },
  {
   "cell_type": "code",
   "execution_count": null,
   "metadata": {},
   "outputs": [],
   "source": [
    "# Este comando é usado para criar arquivos de migração com base em alterações feitas nos modelos do seu aplicativo\n",
    "python manage.py makemigrations <nome_app>\n",
    "\n",
    "# completar a migração e faz a tabela aparecer no banco\n",
    "python manage.py migrate"
   ]
  },
  {
   "cell_type": "markdown",
   "metadata": {},
   "source": [
    "Fazendo isso, no banco de dados aparecerá uma nova tabela de nome <nome>_app_Topic. Nela é atribuida automaticamente um id, o text e o date_added"
   ]
  },
  {
   "cell_type": "markdown",
   "metadata": {},
   "source": [
    "## Passo 9: Configurar o painel administrativo"
   ]
  },
  {
   "cell_type": "code",
   "execution_count": null,
   "metadata": {},
   "outputs": [],
   "source": [
    "python manage.py createsuperuser #criar o login do super usuário"
   ]
  },
  {
   "cell_type": "markdown",
   "metadata": {},
   "source": [
    "Username (leave blank to use 'girle'): admin\n",
    "#####\n",
    "Email address: (não precisa)\n",
    "#####\n",
    "Password: 123\n",
    "#####\n",
    "Password (again): 123\n",
    "######\n",
    "This password is too short. It must contain at least 8 characters.\n",
    "This password is too common.\n",
    "This password is entirely numeric.\n",
    "####\n",
    "Bypass password validation and create user anyway? [y/N]: y\n",
    "####\n",
    "Superuser created successfully."
   ]
  },
  {
   "cell_type": "markdown",
   "metadata": {},
   "source": [
    "## Passo 10: Importar a tabela criada anteriormente pro admin.py"
   ]
  },
  {
   "cell_type": "markdown",
   "metadata": {},
   "source": [
    "Deve importar todos os modelos que queremos que apareça no painel administrativo, se não não vai aparecer lá."
   ]
  },
  {
   "cell_type": "code",
   "execution_count": null,
   "metadata": {},
   "outputs": [],
   "source": [
    "from django.contrib import admin\n",
    "from nome_app.models import Topic\n",
    "\n",
    "# registrando a tabela\n",
    "admin.site.register(Topic)"
   ]
  },
  {
   "cell_type": "markdown",
   "metadata": {},
   "source": [
    "# Passo 10: Criando um novo modelo que traga o texto relacionado ao modelo criado anteriormente"
   ]
  },
  {
   "cell_type": "markdown",
   "metadata": {},
   "source": [
    "Obs.: Para cada Topic, posso ter várias anotações. É uma relação de um para muitos.\n",
    "##\n",
    "Para correlacionar, utiliza o conceito de chave estrangeira (ForeignKey), que diz que pra cada topico de texto, tem um título no banco de dados relacionado, que eu posso escolher."
   ]
  },
  {
   "cell_type": "code",
   "execution_count": null,
   "metadata": {},
   "outputs": [],
   "source": [
    "class Entry(models.Model):\n",
    "    topic = models.ForeignKey(Topic, on_delete=models.CASCADE) #está mostrando que a chave estrangeira está vindo de topic\n",
    "    #usando o cascade, significa que quando eu apagar o título, todos os textos associados serão apagados também\n",
    "    text = models.TextField() #campo de texto com tamanho ilimitado\n",
    "    date_added = models.DateTimeField(auto_now_add=True)\n",
    "    \n",
    "    class Meta: #pra quando o Django for usar o plural de entry \n",
    "        verbose_name_plural = 'entries'\n",
    "        \n",
    "    def __str__(self):\n",
    "        return self.text[:50]+ '...' #retorna os primeiros 50 caracteres + reticências"
   ]
  },
  {
   "cell_type": "markdown",
   "metadata": {},
   "source": [
    "Argumentos possíveis pro on_delete: https://docs.djangoproject.com/en/2.2/ref/models/fields/#arguments\n"
   ]
  },
  {
   "cell_type": "markdown",
   "metadata": {},
   "source": [
    "!!! Lembrar de atualizar no admin.py!!!"
   ]
  },
  {
   "cell_type": "code",
   "execution_count": null,
   "metadata": {},
   "outputs": [],
   "source": [
    "from django.contrib import admin\n",
    "from Petra_App.models import Topic, Entry\n",
    "\n",
    "# registrando a tabela\n",
    "admin.site.register(Topic)\n",
    "admin.site.register(Entry)"
   ]
  },
  {
   "cell_type": "markdown",
   "metadata": {},
   "source": [
    "## Passo 11: Criar HTML e a rota para ele\n",
    "\n",
    "Fazer com que o Django leve para uma página inicial com nosso próprio html. Para isso, importamos o caminho no urls.py do Projeto."
   ]
  },
  {
   "cell_type": "code",
   "execution_count": null,
   "metadata": {},
   "outputs": [],
   "source": [
    "from django.contrib import admin\n",
    "from django.urls import path, include # importando também o include, pra pegar do app\n",
    "\n",
    "urlpatterns = [\n",
    "    path(\"admin/\", admin.site.urls),\n",
    "    path(\"\", include('Petra_App.urls')), #quando não digitar nada depois do endereço, ele deve ir pro arquivo urls\n",
    "]\n"
   ]
  },
  {
   "cell_type": "markdown",
   "metadata": {},
   "source": [
    "Em seguida, criamos um arquivo urls no APP, parecido com o do projeto:"
   ]
  },
  {
   "cell_type": "code",
   "execution_count": null,
   "metadata": {},
   "outputs": [],
   "source": [
    "from django.urls import path\n",
    "from . import views\n",
    "\n",
    "urlpatterns = [\n",
    "    path(\"\", views.index), # quando não tiver nada na url, chama a função index do views\n",
    "]\n"
   ]
  },
  {
   "cell_type": "markdown",
   "metadata": {},
   "source": [
    "Posteriormente, precisamos configurar o views para reconhecer a página html"
   ]
  },
  {
   "cell_type": "code",
   "execution_count": null,
   "metadata": {},
   "outputs": [],
   "source": [
    "from django.shortcuts import render\n",
    "\n",
    "def index(request):\n",
    "    '''Página principal'''\n",
    "    return render(request, 'Petra_App/index.html') #vai pegar tudo que está sendo trabalhado na função e vai mandar pra página html"
   ]
  },
  {
   "cell_type": "markdown",
   "metadata": {},
   "source": [
    "Por fim, devemos criar uma pasta chamada templates, no app, e dentro dela uma pasta com o nome do app, que vai carregar os arquivos html."
   ]
  },
  {
   "cell_type": "markdown",
   "metadata": {},
   "source": [
    "### **Observação**: criando um arquivo com coisas em comum em todas as páginas\n",
    "\n",
    "No base.html, podemos colocar coisas em comum, como menus cabeçalhos e rodapés. Semelhante a POO, o base é o arquivo pai e os outros erdam dele. Exemplo: criando um link que leva pra página principal:\n"
   ]
  },
  {
   "cell_type": "code",
   "execution_count": null,
   "metadata": {
    "vscode": {
     "languageId": "html"
    }
   },
   "outputs": [],
   "source": [
    "<a href=\"{% url 'index' %}\"><h1>Home</h1></a> <!---Criando um link que me manda pro index-->\n",
    "\n",
    "{% block content %}\n",
    "<!---Aqui fica o conteúdo da página filha-->\n",
    "{% endblock content%}\n",
    "\n",
    "<footer>teste</footer> "
   ]
  },
  {
   "cell_type": "markdown",
   "metadata": {},
   "source": [
    "tudo que estiver fora do block, pode ser extendido pra todas as páginas"
   ]
  },
  {
   "cell_type": "code",
   "execution_count": null,
   "metadata": {
    "vscode": {
     "languageId": "html"
    }
   },
   "outputs": [],
   "source": [
    "#no index ficará:\n",
    "\n",
    "{% extends \"Petra_App/base.html\" %}\n",
    "\n",
    "{% block content %}\n",
    "    <h1>Testando</h1>\n",
    "{% endblock content%}"
   ]
  },
  {
   "cell_type": "markdown",
   "metadata": {},
   "source": [
    "fazemos também uma modificação no urls do app, adicionando o nome da url"
   ]
  },
  {
   "cell_type": "code",
   "execution_count": null,
   "metadata": {},
   "outputs": [],
   "source": [
    "from django.urls import path\n",
    "from . import views\n",
    "\n",
    "urlpatterns = [\n",
    "    path(\"\", views.index, name='index'), # quando não tiver nada na url, chama a função index do views\n",
    "]\n",
    "# se for outra view, colocamos o name dela"
   ]
  },
  {
   "cell_type": "markdown",
   "metadata": {},
   "source": [
    "## Passo 12: Importando o conteúdo do banco de dados pro html"
   ]
  },
  {
   "cell_type": "markdown",
   "metadata": {},
   "source": [
    "Para isso, precisamos adicionar um novo método no views para acessar o banco de dados"
   ]
  },
  {
   "cell_type": "code",
   "execution_count": null,
   "metadata": {},
   "outputs": [],
   "source": [
    "from .models import Topic #importar topic \n",
    "\n",
    "def topic(request):\n",
    "    topics = Topic.objects.order_by('date_added') #estou pegando o objeto que está em topics e estou ordenando pela data\n",
    "    context = {'topics': topics}\n",
    "    return render(request, 'Petra_App/topics.html', context) # passando a variável topic como contexto para o html"
   ]
  },
  {
   "cell_type": "markdown",
   "metadata": {},
   "source": [
    "Adicionamos a rota em urls (do app)"
   ]
  },
  {
   "cell_type": "code",
   "execution_count": null,
   "metadata": {},
   "outputs": [],
   "source": [
    "from django.urls import path\n",
    "from . import views\n",
    "\n",
    "urlpatterns = [\n",
    "    path(\"\", views.index, name='index'), # quando não tiver nada na url, chama a função index do views\n",
    "    path(\"topics\", views.topic, name='topics'),\n",
    "]"
   ]
  },
  {
   "cell_type": "markdown",
   "metadata": {},
   "source": [
    "adicionando os tópicos no html"
   ]
  },
  {
   "cell_type": "code",
   "execution_count": null,
   "metadata": {
    "vscode": {
     "languageId": "html"
    }
   },
   "outputs": [],
   "source": [
    "{% extends \"Petra_App/base.html\" %}\n",
    "\n",
    "{% block content %}\n",
    "    <ul>\n",
    "        {% for topic in topics %}\n",
    "        <li>\n",
    "            {{topic}}\n",
    "        </li>\n",
    "        {% empty %}\n",
    "            <li>Não há tópicos</li>\n",
    "        {% endfor %}\n",
    "    </ul>\n",
    "{% endblock content%}"
   ]
  },
  {
   "cell_type": "markdown",
   "metadata": {},
   "source": [
    "***Observação***: Se quiser colocar um tópico específico na tela:"
   ]
  },
  {
   "cell_type": "markdown",
   "metadata": {},
   "source": [
    "No urls"
   ]
  },
  {
   "cell_type": "code",
   "execution_count": null,
   "metadata": {
    "vscode": {
     "languageId": "html"
    }
   },
   "outputs": [],
   "source": [
    "from django.urls import path\n",
    "from . import views\n",
    "\n",
    "urlpatterns = [\n",
    "    path(\"\", views.index, name='index'), # quando não tiver nada na url, chama a função index do views\n",
    "    path(\"topics\", views.topics, name='topics'),\n",
    "    path(\"topics/<topic_id>/\", views.topic, name='topic'), # para pegar um tépico pelo id\n",
    "]\n"
   ]
  },
  {
   "cell_type": "markdown",
   "metadata": {},
   "source": [
    "No views:"
   ]
  },
  {
   "cell_type": "code",
   "execution_count": null,
   "metadata": {},
   "outputs": [],
   "source": [
    "def topic(request, topic_id): #mostra um único assunto e todas as suas entradas\n",
    "    topic = Topic.objects.get(id = topic_id) # pega o tópico pelo id\n",
    "    entries = topic.entry_set.order_by('-date_added') #pega da tabela de entrada do mais recente pro mais antigo\n",
    "    context = {'topic': topic, 'entries': entries}\n",
    "    return request(request, 'Petra_App/topic.html', context)\n"
   ]
  },
  {
   "cell_type": "markdown",
   "metadata": {},
   "source": [
    "no html topoic.html"
   ]
  },
  {
   "cell_type": "code",
   "execution_count": null,
   "metadata": {
    "vscode": {
     "languageId": "html"
    }
   },
   "outputs": [],
   "source": [
    "{% extends \"Petra_App/base.html\" %}\n",
    "\n",
    "{% block content %}\n",
    "<h1>Tópicos</h1>\n",
    "    <h3>\n",
    "        Tópico: {{ topic }}\n",
    "    </h3>\n",
    "    <p>Entradas: </p>\n",
    "    <ul>\n",
    "        {%for entry in entries %}\n",
    "        <li>\n",
    "            <p>{{entry.date_added}}</p> <!---pega a data e formatando a data-->\n",
    "            <p>{{entry.text | linebreaks}}</p> <!---pega o texto e dá quebra de linhas no texto-->\n",
    "        </li>\n",
    "        {%endfor%}\n",
    "    </ul>\n",
    "{% endblock content%}"
   ]
  }
 ],
 "metadata": {
  "language_info": {
   "name": "python"
  }
 },
 "nbformat": 4,
 "nbformat_minor": 2
}
